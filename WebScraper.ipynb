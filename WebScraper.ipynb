{
  "nbformat": 4,
  "nbformat_minor": 0,
  "metadata": {
    "colab": {
      "name": "WebScraper.ipynb",
      "provenance": [],
      "collapsed_sections": [],
      "include_colab_link": true
    },
    "kernelspec": {
      "name": "python3",
      "display_name": "Python 3"
    }
  },
  "cells": [
    {
      "cell_type": "markdown",
      "metadata": {
        "id": "view-in-github",
        "colab_type": "text"
      },
      "source": [
        "<a href=\"https://colab.research.google.com/github/danielmoore19/jupyter/blob/master/WebScraper.ipynb\" target=\"_parent\"><img src=\"https://colab.research.google.com/assets/colab-badge.svg\" alt=\"Open In Colab\"/></a>"
      ]
    },
    {
      "cell_type": "code",
      "metadata": {
        "id": "0j5jn7kEk8wL",
        "colab_type": "code",
        "colab": {
          "base_uri": "https://localhost:8080/",
          "height": 136
        },
        "outputId": "d8559ea8-836f-44cc-8065-df6e4205230c"
      },
      "source": [
        "from time import time\n",
        "from time import sleep\n",
        "from random import randint\n",
        "from IPython.core.display import clear_output\n",
        "from warnings import warn\n",
        "from bs4 import BeautifulSoup\n",
        "import requests\n",
        "\n",
        "# define a function to process the page for space.com/news\n",
        "\n",
        "def space_scrape(soup, news):\n",
        "  # find all elements with class *content*\n",
        "  \n",
        "  stories = soup.select ('.listingResults')\n",
        "  \n",
        "  # extract the content news stories: headline, author, synopsis, date+time\n",
        "  \n",
        "  for story in stories:\n",
        "    headline = story.select_one('.content > header > h3').get_text() # extract article title\n",
        "    author = story.select_one('.content span').get_text() # extract author\n",
        "    synopsis = story.select_one('.content > p').get_text() # extract synopsis\n",
        "    published = story.select_one('.content time').get_text() # extract time and date\n",
        "    print(headline, author, synopsis, published)\n",
        "    \n",
        "# create a list to store the data\n",
        "\n",
        "news = []\n",
        "\n",
        "# make a request\n",
        "\n",
        "url = 'https://www.space.com/news'\n",
        "response = requests.get(url)\n",
        "if(response.ok):\n",
        "  data = response.text\n",
        "  soup = BeautifulSoup(data, 'html.parser')\n",
        "  space_scrape(soup, news)"
      ],
      "execution_count": 15,
      "outputs": [
        {
          "output_type": "stream",
          "text": [
            "Uranus Shines at Its Brightest Tonight: Here's How to See It \n",
            "By\n",
            "\n",
            "Elizabeth Howell \n",
            " \n",
            "You can catch Uranus, one of the solar system's most distant planets, at its brightest tonight.\n",
            " \n"
          ],
          "name": "stdout"
        }
      ]
    },
    {
      "cell_type": "code",
      "metadata": {
        "id": "UQLGwVl9A1-C",
        "colab_type": "code",
        "colab": {}
      },
      "source": [
        ""
      ],
      "execution_count": 0,
      "outputs": []
    }
  ]
}